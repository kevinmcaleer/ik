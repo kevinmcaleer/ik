{
  "nbformat": 4,
  "nbformat_minor": 0,
  "metadata": {
    "colab": {
      "name": "IK.ipynb",
      "provenance": [],
      "collapsed_sections": [],
      "authorship_tag": "ABX9TyOFsSxfIBlKhAQstAtMdIJ3",
      "include_colab_link": true
    },
    "kernelspec": {
      "display_name": "Python 3",
      "name": "python3"
    },
    "language_info": {
      "name": "python"
    }
  },
  "cells": [
    {
      "cell_type": "markdown",
      "metadata": {
        "id": "view-in-github",
        "colab_type": "text"
      },
      "source": [
        "<a href=\"https://colab.research.google.com/github/kevinmcaleer/ik/blob/main/IK.ipynb\" target=\"_parent\"><img src=\"https://colab.research.google.com/assets/colab-badge.svg\" alt=\"Open In Colab\"/></a>"
      ]
    },
    {
      "cell_type": "markdown",
      "metadata": {
        "id": "LPFNK1Bq5v1N"
      },
      "source": [
        "# Inverse Kinematics\n",
        "*An example of how to calculate Inverse Kinmatics for an arm with 2 degrees of Freedom*\n",
        "\n",
        "Kevin McAleer, 18 September 2021\n",
        "\n",
        "---\n",
        "\n"
      ]
    },
    {
      "cell_type": "markdown",
      "metadata": {
        "id": "7-RUr_2h7p0y"
      },
      "source": [
        "## Using Python / MicroPython"
      ]
    },
    {
      "cell_type": "markdown",
      "metadata": {
        "id": "jQ8L_Y7a8hip"
      },
      "source": [
        "This code accompanies the YouTube video - <https://youtu.be/nW5FUVzYCKM>\n",
        "\n",
        "\n",
        "$$ SOHCAHTOA \\ \\ \\textstyle sin \\ x = \\frac {o}{h}, \\ cos \\ x = \\frac {a}{h}, \\ and \\ tan \\ x = \\frac {o}{a} $$"
      ]
    },
    {
      "cell_type": "markdown",
      "metadata": {
        "id": "vEfYEqGLLHhY"
      },
      "source": [
        "### Import Libraries\n",
        "Import the maths functions we need"
      ]
    },
    {
      "cell_type": "code",
      "metadata": {
        "id": "fBfUxfnGLEni"
      },
      "source": [
        "from math import sqrt, pi, acos, cos, tan, atan2, sin"
      ],
      "execution_count": 33,
      "outputs": []
    },
    {
      "cell_type": "markdown",
      "metadata": {
        "id": "nhOhF-CO8XNd"
      },
      "source": [
        "### Constants\n",
        "Lets set some Constants"
      ]
    },
    {
      "cell_type": "code",
      "metadata": {
        "id": "4_ZMsGGLN5Zk"
      },
      "source": [
        "L1 = 55.1\n",
        "L2 = 35\n",
        "L3 = 13.2\n",
        "L4 = 45\n",
        "\n",
        "x = -1.15 \n",
        "y = 30.14\n",
        "\n",
        "O1X = 25\n",
        "O1Y = 24\n",
        "O2X = 49\n",
        "O2Y = 24\n",
        "\n",
        "# if values are negative multiple by -1 to get a positive number\n",
        "if x <0:\n",
        "  x = x * -1\n",
        "if y <0:\n",
        "  y = y * -1"
      ],
      "execution_count": 34,
      "outputs": []
    },
    {
      "cell_type": "markdown",
      "metadata": {
        "id": "qWLaPd_rL0Pa"
      },
      "source": [
        "### Translate to Global Coordinates"
      ]
    },
    {
      "cell_type": "code",
      "metadata": {
        "id": "2kYjPOMgLAUI"
      },
      "source": [
        "# Lets translate the X and Y coordinates to the same frame of reference as the servos\n",
        "global_x = x + O1X # O1X\n",
        "global_y = y + O1Y # O1Y"
      ],
      "execution_count": 35,
      "outputs": []
    },
    {
      "cell_type": "code",
      "metadata": {
        "id": "Nz33FwyPNkbG"
      },
      "source": [
        "def triangle1(x,y)->float:\n",
        "  \"\"\" returns the value of the hypoteneuse \"\"\"\n",
        "  \n",
        "  return sqrt(x**2 + y**2)\n"
      ],
      "execution_count": 36,
      "outputs": []
    },
    {
      "cell_type": "code",
      "metadata": {
        "id": "XIVPmA_1P6Ve"
      },
      "source": [
        "def triangle2(x:float, y:float, r:float)->float:\n",
        "  \"\"\" Finds the value of angle Alpha\"\"\"\n",
        "  alpha = acos((L1**2 + L2**2 - r**2) / (2*L1*L2))\n",
        " \n",
        "  return pi - alpha # Radians"
      ],
      "execution_count": 37,
      "outputs": []
    },
    {
      "cell_type": "code",
      "metadata": {
        "id": "H41aWk3STiSJ"
      },
      "source": [
        "def triangle3(q2:float)->float:\n",
        "  \"\"\" Returns the value of a2_sin_q2 \"\"\"\n",
        "  a2_sin_q2 = sqrt(- cos(q2**2))\n",
        "  \n",
        "  return a2_sin_q2 # Radians"
      ],
      "execution_count": 38,
      "outputs": []
    },
    {
      "cell_type": "code",
      "metadata": {
        "id": "KvuY2GXdfThL"
      },
      "source": [
        "def triangle4(q2)->float:\n",
        "  \"\"\" Returns the angle Beta \"\"\"\n",
        "  beta = atan2(L2*sin(q2),L1+L2*cos(q2))\n",
        "\n",
        "  return beta # Radians"
      ],
      "execution_count": 39,
      "outputs": []
    },
    {
      "cell_type": "markdown",
      "metadata": {
        "id": "LPNebwzSMcx_"
      },
      "source": [
        "### Time to Print\n",
        "Lets run the functions and solve the triangles"
      ]
    },
    {
      "cell_type": "code",
      "metadata": {
        "colab": {
          "base_uri": "https://localhost:8080/"
        },
        "id": "XU1MUWKpQ-KD",
        "outputId": "247059b5-6ce3-45f9-f318-f7c81da7e353"
      },
      "source": [
        "# Lets print out the values\n",
        "\n",
        "r = triangle1(global_x, global_y)\n",
        "print(\"Triangle 1, r =\",r,\"mm\")\n",
        "q2 = round(triangle2(global_x, global_y, r),1)\n",
        "print(\"Triangle 2, q2 =\",q2, \"Radians\")\n",
        "q2_degrees = round(q2 * (180/pi),1)\n",
        "print(\"Triangle 2, q2 = \",q2_degrees,\"° degrees\",sep=\"\")\n",
        "\n",
        "alpha = round(triangle3(q2), 1)\n",
        "beta = round(triangle4(q2), 1)\n",
        "gamma = round(atan2(y,x),1)\n",
        "\n",
        "alpha_in_degrees = round(alpha * (180/pi), 1)\n",
        "beta_in_degrees = round(beta * (180/pi), 1)\n",
        "gamma_in_degrees = round(gamma * (180/pi),1)\n",
        "\n",
        "print(\"alpha =\", alpha_in_degrees, \"°, beta =\", beta_in_degrees, \"°, gamma =\", gamma_in_degrees,\"°\", sep=\"\")\n",
        "q1 = beta - gamma\n",
        "print(\"q1:\", q1, \"degrees\")\n"
      ],
      "execution_count": 47,
      "outputs": [
        {
          "output_type": "stream",
          "name": "stdout",
          "text": [
            "Triangle 1, r = 60.124554884007246 mm\n",
            "Triangle 2, q2 = 1.7 Radians\n",
            "Triangle 2, q2 = 97.4° degrees\n",
            "alpha =57.3°, beta =34.4°, gamma =85.9°\n",
            "q1: -0.9 degrees\n"
          ]
        }
      ]
    },
    {
      "cell_type": "code",
      "metadata": {
        "colab": {
          "base_uri": "https://localhost:8080/",
          "height": 295
        },
        "id": "oS3YVDQWVwfG",
        "outputId": "39c57af3-4fc1-4501-aedb-ca67d12dc9e5"
      },
      "source": [
        "import matplotlib.pyplot as plt\n",
        "import numpy as np\n",
        "\n",
        "x1 = np.array([0, global_x])\n",
        "y1 = np.array([0, global_y])\n",
        "x2 = np.array([global_x, 0])\n",
        "y2 = np.array([global_y, 0])\n",
        "\n",
        "xpoints = np.array([0, global_x])\n",
        "ypoints = np.array([0, global_y])\n",
        "\n",
        "# plt.plot(x1, y1)\n",
        "\n",
        "plt.plot(x1,y1,x2, y2, linewidth = '20.5')\n",
        "plt.plot(xpoints, ypoints, 'o')\n",
        "\n",
        "plt.title(\"Inverse Kinematics\")\n",
        "plt.xlabel(\"X Axis\")\n",
        "plt.ylabel(\"Y Axis\")\n",
        "\n",
        "plt.show()"
      ],
      "execution_count": 69,
      "outputs": [
        {
          "output_type": "display_data",
          "data": {
            "image/png": "[encoded data removed]",
            "text/plain": [
              "<Figure size 432x288 with 1 Axes>"
            ]
          },
          "metadata": {
            "needs_background": "light"
          }
        }
      ]
    }
  ]
}