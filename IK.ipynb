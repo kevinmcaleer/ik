{
  "nbformat": 4,
  "nbformat_minor": 0,
  "metadata": {
    "colab": {
      "name": "IK.ipynb",
      "provenance": [],
      "collapsed_sections": [],
      "authorship_tag": "ABX9TyMhEl9PZF/5qxt/M/h8DDev",
      "include_colab_link": true
    },
    "kernelspec": {
      "name": "python3",
      "display_name": "Python 3"
    },
    "language_info": {
      "name": "python"
    }
  },
  "cells": [
    {
      "cell_type": "markdown",
      "metadata": {
        "id": "view-in-github",
        "colab_type": "text"
      },
      "source": [
        "<a href=\"https://colab.research.google.com/github/kevinmcaleer/ik/blob/main/IK.ipynb\" target=\"_parent\"><img src=\"https://colab.research.google.com/assets/colab-badge.svg\" alt=\"Open In Colab\"/></a>"
      ]
    },
    {
      "cell_type": "code",
      "metadata": {
        "id": "j8NqMu3JAtEq"
      },
      "source": [
        "from math import sqrt, atan2, tan, cos, sin, pi, acos"
      ],
      "execution_count": 3,
      "outputs": []
    },
    {
      "cell_type": "code",
      "metadata": {
        "id": "QYIZX43pAP11"
      },
      "source": [
        "L1 = 35.0\n",
        "L2 = 55.1\n",
        "L3 = 13.2\n",
        "L4 = 45.0\n",
        "\n",
        "min_pulse = 1200\n",
        "max_pulse = 8260\n",
        "\n",
        "pen_x = 42\n",
        "pen_y = 38\n",
        "\n",
        "O1X = 25\n",
        "O1Y = 24\n",
        "\n",
        "# Local coordinates to right servo\n",
        "local_x = pen_y - O1X \n",
        "local_y = pen_y + O1Y\n",
        "\n",
        "\n",
        "# x = pen_x - O1X\n",
        "# y = pen_y + O1Y"
      ],
      "execution_count": 5,
      "outputs": []
    },
    {
      "cell_type": "code",
      "metadata": {
        "colab": {
          "base_uri": "https://localhost:8080/"
        },
        "id": "0-um5v8bAkFW",
        "outputId": "b20a06a2-f352-43a4-eead-0e000e562823"
      },
      "source": [
        "print(\"local_x\",local_x,\"local_y\",local_y,\" \",local_x**2 + local_y**2)\n",
        "r = sqrt(local_x**2 + local_y**2)\n",
        "print(r)"
      ],
      "execution_count": 6,
      "outputs": [
        {
          "output_type": "stream",
          "name": "stdout",
          "text": [
            "local_x 13 local_y 62   4013\n",
            "63.34824385884742\n"
          ]
        }
      ]
    },
    {
      "cell_type": "code",
      "metadata": {
        "colab": {
          "base_uri": "https://localhost:8080/",
          "height": 249
        },
        "id": "eOYdfx8FBDG8",
        "outputId": "4dbe9d80-5866-4570-f80d-a80fe8c4019e"
      },
      "source": [
        "b = L1\n",
        "c = r\n",
        "a = L2\n",
        "\n",
        "alpha = acos((b**2 + c**2 - a**2) / (2*b*c))\n",
        "alpha_degrees = alpha * (180/pi)\n",
        "print(\"alpha:\", alpha, \",\", alpha_degrees,\"degrees\")\n",
        "# beta = acos((r**2 + L1**2 - L2**2)/(2*r*L1))\n",
        "# beta_degrees = beta * (180/pi)\n",
        "# print(\"Beta:\", beta, \", \", beta_degrees, \"degrees\")\n",
        "gamma = 180 - alpha_degrees - beta_degrees\n",
        "\n",
        "# alpha = acos((r - (x**2) - (y**2)) / (2*L1*L2)) * (180/pi)\n",
        "print(\"Gamma:\",gamma)\n",
        "\n"
      ],
      "execution_count": 7,
      "outputs": [
        {
          "output_type": "stream",
          "name": "stdout",
          "text": [
            "alpha: 1.0511507102064501 , 60.22649932700866 degrees\n"
          ]
        },
        {
          "output_type": "error",
          "ename": "NameError",
          "evalue": "ignored",
          "traceback": [
            "\u001b[0;31m---------------------------------------------------------------------------\u001b[0m",
            "\u001b[0;31mNameError\u001b[0m                                 Traceback (most recent call last)",
            "\u001b[0;32m<ipython-input-7-d11b967d5803>\u001b[0m in \u001b[0;36m<module>\u001b[0;34m()\u001b[0m\n\u001b[1;32m      9\u001b[0m \u001b[0;31m# beta_degrees = beta * (180/pi)\u001b[0m\u001b[0;34m\u001b[0m\u001b[0;34m\u001b[0m\u001b[0;34m\u001b[0m\u001b[0m\n\u001b[1;32m     10\u001b[0m \u001b[0;31m# print(\"Beta:\", beta, \", \", beta_degrees, \"degrees\")\u001b[0m\u001b[0;34m\u001b[0m\u001b[0;34m\u001b[0m\u001b[0;34m\u001b[0m\u001b[0m\n\u001b[0;32m---> 11\u001b[0;31m \u001b[0mgamma\u001b[0m \u001b[0;34m=\u001b[0m \u001b[0;36m180\u001b[0m \u001b[0;34m-\u001b[0m \u001b[0malpha_degrees\u001b[0m \u001b[0;34m-\u001b[0m \u001b[0mbeta_degrees\u001b[0m\u001b[0;34m\u001b[0m\u001b[0;34m\u001b[0m\u001b[0m\n\u001b[0m\u001b[1;32m     12\u001b[0m \u001b[0;34m\u001b[0m\u001b[0m\n\u001b[1;32m     13\u001b[0m \u001b[0;31m# alpha = acos((r - (x**2) - (y**2)) / (2*L1*L2)) * (180/pi)\u001b[0m\u001b[0;34m\u001b[0m\u001b[0;34m\u001b[0m\u001b[0;34m\u001b[0m\u001b[0m\n",
            "\u001b[0;31mNameError\u001b[0m: name 'beta_degrees' is not defined"
          ]
        }
      ]
    },
    {
      "cell_type": "code",
      "metadata": {
        "colab": {
          "base_uri": "https://localhost:8080/"
        },
        "id": "qx-Ab5lh9LY5",
        "outputId": "85e50eb6-ca59-4017-cdb9-d6a2bc185b05"
      },
      "source": [
        "q2 = -acos((L1**2 + L2**2 - local_x**2 - local_y**2)/(2*L1*L2))\n",
        "print(\"q2\",q2)\n",
        "q1 = atan2(local_y, local_x) + atan2 (L2*sin(q2), (L1 + L2*cos(q2)))\n",
        "\n",
        "q1_angle = q1 * (180/pi)\n",
        "print(q1_angle)\n",
        "q3  = q1_angle + 90\n",
        "print(q3)"
      ],
      "execution_count": 63,
      "outputs": [
        {
          "output_type": "stream",
          "name": "stdout",
          "text": [
            "q2 -1.5064506631525196\n",
            "23.18686578965113\n",
            "113.18686578965114\n"
          ]
        }
      ]
    },
    {
      "cell_type": "code",
      "metadata": {
        "id": "4_ZMsGGLN5Zk"
      },
      "source": [
        "from math import sqrt, pi, acos, cos, tan, atan2, sin\n",
        "\n",
        "L1 = 55.1\n",
        "L2 = 35\n",
        "L3 = 13.2\n",
        "L4 = 45\n",
        "\n",
        "x = -1.15 \n",
        "y = 30.14\n",
        "\n",
        "O1X = 25\n",
        "O1Y = 24\n",
        "O2X = 49\n",
        "O2Y = 24\n",
        "\n",
        "# if values are negative multiple by -1 to get a positive number\n",
        "if x <0:\n",
        "  x = x * -1\n",
        "if y <0:\n",
        "  y = y * -1\n",
        "global_x = x + O1X # O1X\n",
        "global_y = y + O1Y # O1Y\n",
        "\n"
      ],
      "execution_count": 8,
      "outputs": []
    },
    {
      "cell_type": "code",
      "metadata": {
        "id": "Nz33FwyPNkbG"
      },
      "source": [
        "def triangle1(x:float,y:float)->float:\n",
        "  \"\"\" returns the value of the hypoteneuse \"\"\"\n",
        "  return sqrt(x**2 + y**2)\n"
      ],
      "execution_count": 15,
      "outputs": []
    },
    {
      "cell_type": "code",
      "metadata": {
        "id": "XIVPmA_1P6Ve"
      },
      "source": [
        "def triangle2(x:float, y:float, r:float)->float:\n",
        "  # alpha = acos((L1**2 + L2**2 - x**2 - y**2) / (2*L1*L2))\n",
        "  # alpha = acos((L1**2 + L2**2 - x**2 - y**2)/(2*L1*L2))\n",
        "  alpha = acos((L1**2 + L2**2 - r**2) / (2*L1*L2))\n",
        "  v = (L1**2 + L2**2 - x**2 - y**2) / (2*L1*L2)\n",
        "  return pi - alpha, v # Radians\n",
        "\n"
      ],
      "execution_count": 9,
      "outputs": []
    },
    {
      "cell_type": "code",
      "metadata": {
        "id": "H41aWk3STiSJ"
      },
      "source": [
        "def triangle3(q2:float):\n",
        "  # a2_cos_q2 = L2*cos(q2)\n",
        "  a2_sin_q2 = sqrt(- cos(q2**2))\n",
        "  return a2_sin_q2 # Radians"
      ],
      "execution_count": 10,
      "outputs": []
    },
    {
      "cell_type": "code",
      "metadata": {
        "id": "KvuY2GXdfThL"
      },
      "source": [
        "def triangle4(q2):\n",
        "  beta = atan2(L2*sin(q2),L1+L2*cos(q2))\n",
        "  return beta # Radians"
      ],
      "execution_count": 11,
      "outputs": []
    },
    {
      "cell_type": "code",
      "metadata": {
        "id": "RMpwReDMnZeT"
      },
      "source": [
        "def if(x, y):\n",
        "  r = x**2 + y**2\n",
        "  q2 = acos((L1**2r - x**2 - y**2)/(2*L1*L4))"
      ],
      "execution_count": null,
      "outputs": []
    },
    {
      "cell_type": "code",
      "metadata": {
        "colab": {
          "base_uri": "https://localhost:8080/"
        },
        "id": "XU1MUWKpQ-KD",
        "outputId": "d34f9390-33ec-4800-835f-aba5b462a1af"
      },
      "source": [
        "r = triangle1(global_x, global_y)\n",
        "print(\"Triangle 1, r =\",r,\"mm\")\n",
        "q2, v = triangle2(global_x, global_y, r)\n",
        "print(\"Triangle 2, q2 =\",q2, \"Radians\", \"v:\", v, \"in degree\", v * (180/pi))\n",
        "q2_degrees = q2 * (180/pi)\n",
        "print(\"Triangle 2, q2 =\",q2_degrees,\"degrees\")\n",
        "\n",
        "alpha = triangle3(q2)\n",
        "beta = triangle4(q2)\n",
        "gamma = atan2(y,x)\n",
        "print(\"alpha =\", alpha * (180/pi), \", beta =\", beta * (180/pi), \", gamma =\", gamma*(180/pi))\n",
        "q1 = beta - gamma\n",
        "q1a = atan2(y,x) - atan2(L2*sin(q2),(L1 + L2*cos(q2)))\n",
        "print(\"q1:\", q1, \"q1a\", q1a)\n",
        "q1_degrees = q1 * (180/pi)\n",
        "print(\"q1 = \",q1_degrees, \"degrees\") # correct answer!!!!!!!\n",
        "print(\"q1a = \", q1a * (180/pi),\"in degrees\")"
      ],
      "execution_count": 16,
      "outputs": [
        {
          "output_type": "stream",
          "name": "stdout",
          "text": [
            "Triangle 1, r = 60.124554884007246 mm\n",
            "Triangle 2, q2 = 1.7390897259404616 Radians v: 0.16750010370754484 in degree 9.597049010445913\n",
            "Triangle 2, q2 = 99.64250149095145 degrees\n",
            "alpha = 57.09905084906495 , beta = 35.022681401766356 , gamma = 87.81492370606439\n",
            "q1: -0.921398447720639 q1a 0.921398447720639\n",
            "q1 =  -52.792242304298036 degrees\n",
            "q1a =  52.792242304298036 in degrees\n"
          ]
        }
      ]
    },
    {
      "cell_type": "code",
      "metadata": {
        "id": "WBapUGsF-EP9"
      },
      "source": [
        "# ------------------------\n",
        "# Left Servo"
      ],
      "execution_count": null,
      "outputs": []
    },
    {
      "cell_type": "code",
      "metadata": {
        "id": "aTls4WtP-JCB"
      },
      "source": [
        "def triangle5(x,y):\n",
        "  r = triangle1(x,y)\n",
        "  q2 = triangle2(x,y,r)\n",
        "  a1 = atan2(y - O1Y , x - O1X)\n",
        "  print(\"a1 = \", a1)\n",
        "  hx = x + L3 * cos((a1 - q2 + 0.621) + pi)\n",
        "  hy = y + L3 * sin((a2 - q2 + 0.621) + pi) \n",
        "\n",
        "  dx = hx - O2X\n",
        "  dy = hy - O2Y \n",
        "\n",
        "  c = sqrt(dx**2 + dy**2)\n",
        "  a1 = atan(dy, dx)\n",
        "  a2 = triangle2(L1, L4, c)\n",
        "  print(\"a2 = \",a2, \"radians, \", a2 * (180/pi),\"degreed\")\n"
      ],
      "execution_count": 2,
      "outputs": []
    },
    {
      "cell_type": "code",
      "metadata": {
        "colab": {
          "base_uri": "https://localhost:8080/",
          "height": 164
        },
        "id": "lwW0WU5ECoz5",
        "outputId": "88bbdb82-8b7e-4094-f0a8-e3492572fb0a"
      },
      "source": [
        "triangle5(x,y)"
      ],
      "execution_count": 1,
      "outputs": [
        {
          "output_type": "error",
          "ename": "NameError",
          "evalue": "ignored",
          "traceback": [
            "\u001b[0;31m---------------------------------------------------------------------------\u001b[0m",
            "\u001b[0;31mNameError\u001b[0m                                 Traceback (most recent call last)",
            "\u001b[0;32m<ipython-input-1-f86a675b0217>\u001b[0m in \u001b[0;36m<module>\u001b[0;34m()\u001b[0m\n\u001b[0;32m----> 1\u001b[0;31m \u001b[0mtriangle5\u001b[0m\u001b[0;34m(\u001b[0m\u001b[0mx\u001b[0m\u001b[0;34m,\u001b[0m\u001b[0my\u001b[0m\u001b[0;34m)\u001b[0m\u001b[0;34m\u001b[0m\u001b[0;34m\u001b[0m\u001b[0m\n\u001b[0m",
            "\u001b[0;31mNameError\u001b[0m: name 'triangle5' is not defined"
          ]
        }
      ]
    }
  ]
}